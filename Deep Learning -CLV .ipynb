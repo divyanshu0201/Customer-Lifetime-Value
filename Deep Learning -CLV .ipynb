{
 "cells": [
  {
   "cell_type": "code",
   "execution_count": 88,
   "metadata": {},
   "outputs": [],
   "source": [
    "import numpy as np\n",
    "import matplotlib.pyplot as plt\n",
    "import pandas as pd\n",
    "from sklearn.preprocessing import LabelEncoder"
   ]
  },
  {
   "cell_type": "code",
   "execution_count": 89,
   "metadata": {
    "scrolled": true
   },
   "outputs": [
    {
     "data": {
      "text/html": [
       "<div>\n",
       "<style scoped>\n",
       "    .dataframe tbody tr th:only-of-type {\n",
       "        vertical-align: middle;\n",
       "    }\n",
       "\n",
       "    .dataframe tbody tr th {\n",
       "        vertical-align: top;\n",
       "    }\n",
       "\n",
       "    .dataframe thead th {\n",
       "        text-align: right;\n",
       "    }\n",
       "</style>\n",
       "<table border=\"1\" class=\"dataframe\">\n",
       "  <thead>\n",
       "    <tr style=\"text-align: right;\">\n",
       "      <th></th>\n",
       "      <th>CLV_TYPE</th>\n",
       "    </tr>\n",
       "  </thead>\n",
       "  <tbody>\n",
       "    <tr>\n",
       "      <td>0</td>\n",
       "      <td>0</td>\n",
       "    </tr>\n",
       "    <tr>\n",
       "      <td>1</td>\n",
       "      <td>1</td>\n",
       "    </tr>\n",
       "    <tr>\n",
       "      <td>2</td>\n",
       "      <td>0</td>\n",
       "    </tr>\n",
       "    <tr>\n",
       "      <td>3</td>\n",
       "      <td>1</td>\n",
       "    </tr>\n",
       "    <tr>\n",
       "      <td>4</td>\n",
       "      <td>1</td>\n",
       "    </tr>\n",
       "  </tbody>\n",
       "</table>\n",
       "</div>"
      ],
      "text/plain": [
       "   CLV_TYPE\n",
       "0         0\n",
       "1         1\n",
       "2         0\n",
       "3         1\n",
       "4         1"
      ]
     },
     "execution_count": 89,
     "metadata": {},
     "output_type": "execute_result"
    }
   ],
   "source": [
    "dataset = pd.read_excel(r'C:\\Users\\Mohammad\\Desktop\\Machine Learning Models CLV\\CLV.xlsx')\n",
    "a1={'L': 0,'M': 1,'H':2}\n",
    "dataset['CLV_TYPE'] = dataset['CLV_TYPE'].map(a1)\n",
    "X = dataset[['Age','Bank_Balance','(Average)Interest Rate Margin(%)','Loan_Interest','Fees_Service','Total_Earning','Retain_Amount','Service_Spent','Discount_Rate','Totl_Spend','Gross_Margin','Retention_rate']]\n",
    "y = dataset[['CLV_TYPE']] # Our Dependent Variable Data frame\n",
    "y.head()\n"
   ]
  },
  {
   "cell_type": "code",
   "execution_count": 90,
   "metadata": {},
   "outputs": [],
   "source": [
    "from sklearn.model_selection import train_test_split\n",
    "X_train, X_test, y_train, y_test = train_test_split(X, y, test_size = 0.3, random_state = 0)"
   ]
  },
  {
   "cell_type": "code",
   "execution_count": 128,
   "metadata": {},
   "outputs": [
    {
     "data": {
      "text/plain": [
       "(300, 1)"
      ]
     },
     "execution_count": 128,
     "metadata": {},
     "output_type": "execute_result"
    }
   ],
   "source": [
    "from sklearn.preprocessing import StandardScaler\n",
    "sc = StandardScaler()\n",
    "X_train = sc.fit_transform(X_train)\n",
    "X_test = sc.transform(X_test)\n",
    "X_train.shape\n",
    "X_test.shape\n",
    "y_train.shape\n",
    "y_test.shape"
   ]
  },
  {
   "cell_type": "code",
   "execution_count": 135,
   "metadata": {},
   "outputs": [],
   "source": [
    "import keras\n",
    "from keras.models import Sequential\n",
    "from keras.layers import Dense\n",
    "\n",
    "# Initialising the ANN\n",
    "classifier = Sequential()"
   ]
  },
  {
   "cell_type": "code",
   "execution_count": 170,
   "metadata": {},
   "outputs": [],
   "source": [
    "# Adding the input layer and the first hidden layer\n",
    "classifier.add(Dense(12,activation = 'relu',kernel_initializer = 'uniform', batch_size=3,input_shape = (12,) ))"
   ]
  },
  {
   "cell_type": "code",
   "execution_count": 171,
   "metadata": {},
   "outputs": [],
   "source": [
    "# # Adding the second hidden layer\n",
    "classifier.add(Dense(units = 4, kernel_initializer = 'uniform',  batch_size=3,activation = 'relu')) #We use the RECTIFIER Activation Function for our Output Layer"
   ]
  },
  {
   "cell_type": "code",
   "execution_count": 172,
   "metadata": {},
   "outputs": [],
   "source": [
    "# Adding the output layer\n",
    "classifier.add(Dense(units = 3,kernel_initializer = 'uniform', activation = 'sigmoid')) #We use the SIGMOID Activation Function for our Output Layer"
   ]
  },
  {
   "cell_type": "code",
   "execution_count": 173,
   "metadata": {},
   "outputs": [],
   "source": [
    "# Compiling the ANN\n",
    "classifier.compile(optimizer = 'rmsprop', loss = 'sparse_categorical_crossentropy', metrics = ['accuracy'])"
   ]
  },
  {
   "cell_type": "code",
   "execution_count": 174,
   "metadata": {},
   "outputs": [
    {
     "name": "stdout",
     "output_type": "stream",
     "text": [
      "Epoch 1/100\n",
      "700/700 [==============================] - 2s 3ms/step - loss: 1.0931 - accuracy: 0.4600\n",
      "Epoch 2/100\n",
      "700/700 [==============================] - 0s 158us/step - loss: 1.0845 - accuracy: 0.4886\n",
      "Epoch 3/100\n",
      "700/700 [==============================] - 0s 155us/step - loss: 1.0758 - accuracy: 0.5129\n",
      "Epoch 4/100\n",
      "700/700 [==============================] - 0s 151us/step - loss: 1.0661 - accuracy: 0.5486\n",
      "Epoch 5/100\n",
      "700/700 [==============================] - 0s 149us/step - loss: 1.0556 - accuracy: 0.5514\n",
      "Epoch 6/100\n",
      "700/700 [==============================] - 0s 151us/step - loss: 1.0441 - accuracy: 0.5400\n",
      "Epoch 7/100\n",
      "700/700 [==============================] - 0s 149us/step - loss: 1.0313 - accuracy: 0.5929\n",
      "Epoch 8/100\n",
      "700/700 [==============================] - 0s 154us/step - loss: 1.0173 - accuracy: 0.5029\n",
      "Epoch 9/100\n",
      "700/700 [==============================] - 0s 163us/step - loss: 1.0021 - accuracy: 0.4800\n",
      "Epoch 10/100\n",
      "700/700 [==============================] - 0s 155us/step - loss: 0.9846 - accuracy: 0.4800\n",
      "Epoch 11/100\n",
      "700/700 [==============================] - 0s 149us/step - loss: 0.9653 - accuracy: 0.4800\n",
      "Epoch 12/100\n",
      "700/700 [==============================] - 0s 155us/step - loss: 0.9443 - accuracy: 0.4800\n",
      "Epoch 13/100\n",
      "700/700 [==============================] - 0s 162us/step - loss: 0.9222 - accuracy: 0.4800\n",
      "Epoch 14/100\n",
      "700/700 [==============================] - 0s 155us/step - loss: 0.8992 - accuracy: 0.4800\n",
      "Epoch 15/100\n",
      "700/700 [==============================] - 0s 152us/step - loss: 0.8758 - accuracy: 0.4800\n",
      "Epoch 16/100\n",
      "700/700 [==============================] - 0s 156us/step - loss: 0.8526 - accuracy: 0.4800\n",
      "Epoch 17/100\n",
      "700/700 [==============================] - 0s 158us/step - loss: 0.8301 - accuracy: 0.4800\n",
      "Epoch 18/100\n",
      "700/700 [==============================] - 0s 161us/step - loss: 0.8087 - accuracy: 0.4800\n",
      "Epoch 19/100\n",
      "700/700 [==============================] - 0s 154us/step - loss: 0.7891 - accuracy: 0.4886\n",
      "Epoch 20/100\n",
      "700/700 [==============================] - 0s 155us/step - loss: 0.7719 - accuracy: 0.5171\n",
      "Epoch 21/100\n",
      "700/700 [==============================] - 0s 154us/step - loss: 0.7569 - accuracy: 0.5171\n",
      "Epoch 22/100\n",
      "700/700 [==============================] - 0s 159us/step - loss: 0.7441 - accuracy: 0.5171\n",
      "Epoch 23/100\n",
      "700/700 [==============================] - 0s 156us/step - loss: 0.7339 - accuracy: 0.5171\n",
      "Epoch 24/100\n",
      "700/700 [==============================] - 0s 148us/step - loss: 0.7262 - accuracy: 0.5171\n",
      "Epoch 25/100\n",
      "700/700 [==============================] - 0s 158us/step - loss: 0.7206 - accuracy: 0.5171\n",
      "Epoch 26/100\n",
      "700/700 [==============================] - 0s 166us/step - loss: 0.7168 - accuracy: 0.5171\n",
      "Epoch 27/100\n",
      "700/700 [==============================] - 0s 162us/step - loss: 0.7142 - accuracy: 0.5171\n",
      "Epoch 28/100\n",
      "700/700 [==============================] - 0s 159us/step - loss: 0.7125 - accuracy: 0.5171\n",
      "Epoch 29/100\n",
      "700/700 [==============================] - 0s 165us/step - loss: 0.7114 - accuracy: 0.5171\n",
      "Epoch 30/100\n",
      "700/700 [==============================] - 0s 169us/step - loss: 0.7106 - accuracy: 0.5171\n",
      "Epoch 31/100\n",
      "700/700 [==============================] - 0s 159us/step - loss: 0.7101 - accuracy: 0.5171\n",
      "Epoch 32/100\n",
      "700/700 [==============================] - 0s 172us/step - loss: 0.7095 - accuracy: 0.5171\n",
      "Epoch 33/100\n",
      "700/700 [==============================] - 0s 182us/step - loss: 0.7089 - accuracy: 0.5171\n",
      "Epoch 34/100\n",
      "700/700 [==============================] - 0s 176us/step - loss: 0.7084 - accuracy: 0.51710s - loss: 0.6945 - accuracy: 0.\n",
      "Epoch 35/100\n",
      "700/700 [==============================] - 0s 182us/step - loss: 0.7076 - accuracy: 0.5171\n",
      "Epoch 36/100\n",
      "700/700 [==============================] - 0s 169us/step - loss: 0.7069 - accuracy: 0.5171\n",
      "Epoch 37/100\n",
      "700/700 [==============================] - 0s 180us/step - loss: 0.7062 - accuracy: 0.5171\n",
      "Epoch 38/100\n",
      "700/700 [==============================] - 0s 172us/step - loss: 0.7053 - accuracy: 0.51710s - loss: 0.7058 - accuracy: 0.51\n",
      "Epoch 39/100\n",
      "700/700 [==============================] - 0s 172us/step - loss: 0.7042 - accuracy: 0.5171\n",
      "Epoch 40/100\n",
      "700/700 [==============================] - 0s 175us/step - loss: 0.7031 - accuracy: 0.5171\n",
      "Epoch 41/100\n",
      "700/700 [==============================] - 0s 180us/step - loss: 0.7016 - accuracy: 0.5171\n",
      "Epoch 42/100\n",
      "700/700 [==============================] - 0s 173us/step - loss: 0.6999 - accuracy: 0.5171\n",
      "Epoch 43/100\n",
      "700/700 [==============================] - 0s 173us/step - loss: 0.6980 - accuracy: 0.5171\n",
      "Epoch 44/100\n",
      "700/700 [==============================] - 0s 158us/step - loss: 0.6962 - accuracy: 0.5171\n",
      "Epoch 45/100\n",
      "700/700 [==============================] - 0s 170us/step - loss: 0.6940 - accuracy: 0.5171\n",
      "Epoch 46/100\n",
      "700/700 [==============================] - 0s 166us/step - loss: 0.6917 - accuracy: 0.5171\n",
      "Epoch 47/100\n",
      "700/700 [==============================] - 0s 166us/step - loss: 0.6895 - accuracy: 0.5171\n",
      "Epoch 48/100\n",
      "700/700 [==============================] - 0s 168us/step - loss: 0.6871 - accuracy: 0.5171\n",
      "Epoch 49/100\n",
      "700/700 [==============================] - 0s 156us/step - loss: 0.6847 - accuracy: 0.5171\n",
      "Epoch 50/100\n",
      "700/700 [==============================] - 0s 179us/step - loss: 0.6823 - accuracy: 0.5171\n",
      "Epoch 51/100\n",
      "700/700 [==============================] - 0s 173us/step - loss: 0.6800 - accuracy: 0.5171\n",
      "Epoch 52/100\n",
      "700/700 [==============================] - 0s 158us/step - loss: 0.6778 - accuracy: 0.5171\n",
      "Epoch 53/100\n",
      "700/700 [==============================] - 0s 168us/step - loss: 0.6756 - accuracy: 0.5171\n",
      "Epoch 54/100\n",
      "700/700 [==============================] - 0s 172us/step - loss: 0.6735 - accuracy: 0.5171\n",
      "Epoch 55/100\n",
      "700/700 [==============================] - 0s 179us/step - loss: 0.6714 - accuracy: 0.5171\n",
      "Epoch 56/100\n",
      "700/700 [==============================] - 0s 172us/step - loss: 0.6694 - accuracy: 0.5171\n",
      "Epoch 57/100\n",
      "700/700 [==============================] - 0s 156us/step - loss: 0.6674 - accuracy: 0.5171\n",
      "Epoch 58/100\n",
      "700/700 [==============================] - 0s 155us/step - loss: 0.6653 - accuracy: 0.5171\n",
      "Epoch 59/100\n",
      "700/700 [==============================] - 0s 154us/step - loss: 0.6632 - accuracy: 0.5171\n",
      "Epoch 60/100\n",
      "700/700 [==============================] - 0s 155us/step - loss: 0.6611 - accuracy: 0.5171\n",
      "Epoch 61/100\n",
      "700/700 [==============================] - 0s 152us/step - loss: 0.6588 - accuracy: 0.5171\n",
      "Epoch 62/100\n",
      "700/700 [==============================] - 0s 175us/step - loss: 0.6565 - accuracy: 0.5171\n",
      "Epoch 63/100\n",
      "700/700 [==============================] - 0s 183us/step - loss: 0.6541 - accuracy: 0.5171\n",
      "Epoch 64/100\n",
      "700/700 [==============================] - 0s 173us/step - loss: 0.6516 - accuracy: 0.5171\n",
      "Epoch 65/100\n",
      "700/700 [==============================] - 0s 161us/step - loss: 0.6490 - accuracy: 0.5171\n",
      "Epoch 66/100\n",
      "700/700 [==============================] - 0s 158us/step - loss: 0.6465 - accuracy: 0.5171\n",
      "Epoch 67/100\n",
      "700/700 [==============================] - 0s 179us/step - loss: 0.6438 - accuracy: 0.5171\n",
      "Epoch 68/100\n",
      "700/700 [==============================] - 0s 172us/step - loss: 0.6408 - accuracy: 0.5171\n",
      "Epoch 69/100\n",
      "700/700 [==============================] - 0s 168us/step - loss: 0.6376 - accuracy: 0.5171\n",
      "Epoch 70/100\n",
      "700/700 [==============================] - 0s 168us/step - loss: 0.6343 - accuracy: 0.5171\n",
      "Epoch 71/100\n",
      "700/700 [==============================] - 0s 162us/step - loss: 0.6311 - accuracy: 0.5171\n",
      "Epoch 72/100\n",
      "700/700 [==============================] - 0s 158us/step - loss: 0.6274 - accuracy: 0.5171\n",
      "Epoch 73/100\n",
      "700/700 [==============================] - 0s 161us/step - loss: 0.6237 - accuracy: 0.5171\n",
      "Epoch 74/100\n",
      "700/700 [==============================] - 0s 156us/step - loss: 0.6200 - accuracy: 0.5171\n",
      "Epoch 75/100\n",
      "700/700 [==============================] - 0s 159us/step - loss: 0.6161 - accuracy: 0.5171\n",
      "Epoch 76/100\n",
      "700/700 [==============================] - 0s 158us/step - loss: 0.6118 - accuracy: 0.5171\n",
      "Epoch 77/100\n",
      "700/700 [==============================] - 0s 170us/step - loss: 0.6072 - accuracy: 0.5171\n",
      "Epoch 78/100\n",
      "700/700 [==============================] - 0s 156us/step - loss: 0.6021 - accuracy: 0.5171\n",
      "Epoch 79/100\n"
     ]
    },
    {
     "name": "stdout",
     "output_type": "stream",
     "text": [
      "700/700 [==============================] - 0s 159us/step - loss: 0.5966 - accuracy: 0.5171\n",
      "Epoch 80/100\n",
      "700/700 [==============================] - 0s 159us/step - loss: 0.5914 - accuracy: 0.5171\n",
      "Epoch 81/100\n",
      "700/700 [==============================] - 0s 163us/step - loss: 0.5860 - accuracy: 0.5171\n",
      "Epoch 82/100\n",
      "700/700 [==============================] - 0s 168us/step - loss: 0.5804 - accuracy: 0.5171\n",
      "Epoch 83/100\n",
      "700/700 [==============================] - 0s 183us/step - loss: 0.5751 - accuracy: 0.5171\n",
      "Epoch 84/100\n",
      "700/700 [==============================] - 0s 173us/step - loss: 0.5703 - accuracy: 0.5171\n",
      "Epoch 85/100\n",
      "700/700 [==============================] - 0s 179us/step - loss: 0.5654 - accuracy: 0.5171\n",
      "Epoch 86/100\n",
      "700/700 [==============================] - 0s 176us/step - loss: 0.5606 - accuracy: 0.5171\n",
      "Epoch 87/100\n",
      "700/700 [==============================] - 0s 175us/step - loss: 0.5556 - accuracy: 0.5171\n",
      "Epoch 88/100\n",
      "700/700 [==============================] - 0s 179us/step - loss: 0.5507 - accuracy: 0.5171\n",
      "Epoch 89/100\n",
      "700/700 [==============================] - 0s 175us/step - loss: 0.5456 - accuracy: 0.5171\n",
      "Epoch 90/100\n",
      "700/700 [==============================] - 0s 169us/step - loss: 0.5402 - accuracy: 0.5171\n",
      "Epoch 91/100\n",
      "700/700 [==============================] - 0s 175us/step - loss: 0.5347 - accuracy: 0.5171\n",
      "Epoch 92/100\n",
      "700/700 [==============================] - 0s 177us/step - loss: 0.5290 - accuracy: 0.5171\n",
      "Epoch 93/100\n",
      "700/700 [==============================] - 0s 168us/step - loss: 0.5231 - accuracy: 0.5171\n",
      "Epoch 94/100\n",
      "700/700 [==============================] - 0s 173us/step - loss: 0.5169 - accuracy: 0.5171\n",
      "Epoch 95/100\n",
      "700/700 [==============================] - 0s 145us/step - loss: 0.5098 - accuracy: 0.5171\n",
      "Epoch 96/100\n",
      "700/700 [==============================] - 0s 141us/step - loss: 0.5024 - accuracy: 0.5171\n",
      "Epoch 97/100\n",
      "700/700 [==============================] - 0s 138us/step - loss: 0.4944 - accuracy: 0.5171\n",
      "Epoch 98/100\n",
      "700/700 [==============================] - 0s 155us/step - loss: 0.4858 - accuracy: 0.5171\n",
      "Epoch 99/100\n",
      "700/700 [==============================] - 0s 168us/step - loss: 0.4767 - accuracy: 0.5171\n",
      "Epoch 100/100\n",
      "700/700 [==============================] - 0s 155us/step - loss: 0.4673 - accuracy: 0.5171\n"
     ]
    },
    {
     "data": {
      "text/plain": [
       "<keras.callbacks.callbacks.History at 0xb10cd50288>"
      ]
     },
     "execution_count": 174,
     "metadata": {},
     "output_type": "execute_result"
    }
   ],
   "source": [
    "# Fitting the ANN to the Training set\n",
    "classifier.fit(X_train, y_train, epochs = 100)"
   ]
  },
  {
   "cell_type": "code",
   "execution_count": 153,
   "metadata": {},
   "outputs": [
    {
     "data": {
      "text/plain": [
       "(300, 3)"
      ]
     },
     "execution_count": 153,
     "metadata": {},
     "output_type": "execute_result"
    }
   ],
   "source": [
    "y_pred =classifier.predict(X_test)\n",
    "y_pred\n",
    "y_pred.shape"
   ]
  },
  {
   "cell_type": "code",
   "execution_count": 147,
   "metadata": {},
   "outputs": [
    {
     "ename": "ValueError",
     "evalue": "Error when checking input: expected dense_39_input to have shape (12,) but got array with shape (1,)",
     "output_type": "error",
     "traceback": [
      "\u001b[1;31m---------------------------------------------------------------------------\u001b[0m",
      "\u001b[1;31mValueError\u001b[0m                                Traceback (most recent call last)",
      "\u001b[1;32m<ipython-input-147-34a745c68977>\u001b[0m in \u001b[0;36m<module>\u001b[1;34m\u001b[0m\n\u001b[1;32m----> 1\u001b[1;33m \u001b[0macc\u001b[0m \u001b[1;33m=\u001b[0m \u001b[0mclassifier\u001b[0m\u001b[1;33m.\u001b[0m\u001b[0mevaluate\u001b[0m\u001b[1;33m(\u001b[0m\u001b[0my_test\u001b[0m\u001b[1;33m,\u001b[0m\u001b[0my_pred\u001b[0m\u001b[1;33m,\u001b[0m\u001b[0mbatch_size\u001b[0m\u001b[1;33m=\u001b[0m\u001b[1;36m10\u001b[0m\u001b[1;33m,\u001b[0m\u001b[0mverbose\u001b[0m\u001b[1;33m=\u001b[0m\u001b[1;36m2\u001b[0m\u001b[1;33m)\u001b[0m\u001b[1;33m\u001b[0m\u001b[1;33m\u001b[0m\u001b[0m\n\u001b[0m",
      "\u001b[1;32m~\\AppData\\Local\\Continuum\\anaconda3\\lib\\site-packages\\keras\\engine\\training.py\u001b[0m in \u001b[0;36mevaluate\u001b[1;34m(self, x, y, batch_size, verbose, sample_weight, steps, callbacks, max_queue_size, workers, use_multiprocessing)\u001b[0m\n\u001b[0;32m   1347\u001b[0m             \u001b[0mx\u001b[0m\u001b[1;33m,\u001b[0m \u001b[0my\u001b[0m\u001b[1;33m,\u001b[0m\u001b[1;33m\u001b[0m\u001b[1;33m\u001b[0m\u001b[0m\n\u001b[0;32m   1348\u001b[0m             \u001b[0msample_weight\u001b[0m\u001b[1;33m=\u001b[0m\u001b[0msample_weight\u001b[0m\u001b[1;33m,\u001b[0m\u001b[1;33m\u001b[0m\u001b[1;33m\u001b[0m\u001b[0m\n\u001b[1;32m-> 1349\u001b[1;33m             batch_size=batch_size)\n\u001b[0m\u001b[0;32m   1350\u001b[0m         \u001b[1;31m# Prepare inputs, delegate logic to `test_loop`.\u001b[0m\u001b[1;33m\u001b[0m\u001b[1;33m\u001b[0m\u001b[1;33m\u001b[0m\u001b[0m\n\u001b[0;32m   1351\u001b[0m         \u001b[1;32mif\u001b[0m \u001b[0mself\u001b[0m\u001b[1;33m.\u001b[0m\u001b[0m_uses_dynamic_learning_phase\u001b[0m\u001b[1;33m(\u001b[0m\u001b[1;33m)\u001b[0m\u001b[1;33m:\u001b[0m\u001b[1;33m\u001b[0m\u001b[1;33m\u001b[0m\u001b[0m\n",
      "\u001b[1;32m~\\AppData\\Local\\Continuum\\anaconda3\\lib\\site-packages\\keras\\engine\\training.py\u001b[0m in \u001b[0;36m_standardize_user_data\u001b[1;34m(self, x, y, sample_weight, class_weight, check_array_lengths, batch_size)\u001b[0m\n\u001b[0;32m    577\u001b[0m             \u001b[0mfeed_input_shapes\u001b[0m\u001b[1;33m,\u001b[0m\u001b[1;33m\u001b[0m\u001b[1;33m\u001b[0m\u001b[0m\n\u001b[0;32m    578\u001b[0m             \u001b[0mcheck_batch_axis\u001b[0m\u001b[1;33m=\u001b[0m\u001b[1;32mFalse\u001b[0m\u001b[1;33m,\u001b[0m  \u001b[1;31m# Don't enforce the batch size.\u001b[0m\u001b[1;33m\u001b[0m\u001b[1;33m\u001b[0m\u001b[0m\n\u001b[1;32m--> 579\u001b[1;33m             exception_prefix='input')\n\u001b[0m\u001b[0;32m    580\u001b[0m \u001b[1;33m\u001b[0m\u001b[0m\n\u001b[0;32m    581\u001b[0m         \u001b[1;32mif\u001b[0m \u001b[0my\u001b[0m \u001b[1;32mis\u001b[0m \u001b[1;32mnot\u001b[0m \u001b[1;32mNone\u001b[0m\u001b[1;33m:\u001b[0m\u001b[1;33m\u001b[0m\u001b[1;33m\u001b[0m\u001b[0m\n",
      "\u001b[1;32m~\\AppData\\Local\\Continuum\\anaconda3\\lib\\site-packages\\keras\\engine\\training_utils.py\u001b[0m in \u001b[0;36mstandardize_input_data\u001b[1;34m(data, names, shapes, check_batch_axis, exception_prefix)\u001b[0m\n\u001b[0;32m    143\u001b[0m                             \u001b[1;34m': expected '\u001b[0m \u001b[1;33m+\u001b[0m \u001b[0mnames\u001b[0m\u001b[1;33m[\u001b[0m\u001b[0mi\u001b[0m\u001b[1;33m]\u001b[0m \u001b[1;33m+\u001b[0m \u001b[1;34m' to have shape '\u001b[0m \u001b[1;33m+\u001b[0m\u001b[1;33m\u001b[0m\u001b[1;33m\u001b[0m\u001b[0m\n\u001b[0;32m    144\u001b[0m                             \u001b[0mstr\u001b[0m\u001b[1;33m(\u001b[0m\u001b[0mshape\u001b[0m\u001b[1;33m)\u001b[0m \u001b[1;33m+\u001b[0m \u001b[1;34m' but got array with shape '\u001b[0m \u001b[1;33m+\u001b[0m\u001b[1;33m\u001b[0m\u001b[1;33m\u001b[0m\u001b[0m\n\u001b[1;32m--> 145\u001b[1;33m                             str(data_shape))\n\u001b[0m\u001b[0;32m    146\u001b[0m     \u001b[1;32mreturn\u001b[0m \u001b[0mdata\u001b[0m\u001b[1;33m\u001b[0m\u001b[1;33m\u001b[0m\u001b[0m\n\u001b[0;32m    147\u001b[0m \u001b[1;33m\u001b[0m\u001b[0m\n",
      "\u001b[1;31mValueError\u001b[0m: Error when checking input: expected dense_39_input to have shape (12,) but got array with shape (1,)"
     ]
    }
   ],
   "source": [
    "\n",
    "acc = classifier.evaluate(y_test,y_pred,batch_size=10,verbose=2)"
   ]
  },
  {
   "cell_type": "code",
   "execution_count": null,
   "metadata": {},
   "outputs": [],
   "source": []
  }
 ],
 "metadata": {
  "kernelspec": {
   "display_name": "Python 3",
   "language": "python",
   "name": "python3"
  },
  "language_info": {
   "codemirror_mode": {
    "name": "ipython",
    "version": 3
   },
   "file_extension": ".py",
   "mimetype": "text/x-python",
   "name": "python",
   "nbconvert_exporter": "python",
   "pygments_lexer": "ipython3",
   "version": "3.7.4"
  }
 },
 "nbformat": 4,
 "nbformat_minor": 2
}
